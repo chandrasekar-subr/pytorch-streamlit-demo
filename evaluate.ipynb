{
 "cells": [
  {
   "cell_type": "code",
   "execution_count": 1,
   "metadata": {},
   "outputs": [],
   "source": [
    "import torch\n",
    "import torchvision\n",
    "import torchvision.transforms as transforms"
   ]
  },
  {
   "cell_type": "code",
   "execution_count": 2,
   "metadata": {},
   "outputs": [],
   "source": [
    "from cnn import Net"
   ]
  },
  {
   "cell_type": "code",
   "execution_count": 3,
   "metadata": {},
   "outputs": [
    {
     "data": {
      "text/plain": [
       "<All keys matched successfully>"
      ]
     },
     "execution_count": 3,
     "metadata": {},
     "output_type": "execute_result"
    }
   ],
   "source": [
    "PATH = './cifar_net.pth'\n",
    "\n",
    "net = Net()\n",
    "net.load_state_dict(torch.load(PATH))"
   ]
  },
  {
   "cell_type": "code",
   "execution_count": 4,
   "metadata": {},
   "outputs": [
    {
     "data": {
      "text/plain": [
       "Net(\n",
       "  (conv1): Conv2d(3, 6, kernel_size=(5, 5), stride=(1, 1))\n",
       "  (pool): MaxPool2d(kernel_size=2, stride=2, padding=0, dilation=1, ceil_mode=False)\n",
       "  (conv2): Conv2d(6, 16, kernel_size=(5, 5), stride=(1, 1))\n",
       "  (fc1): Linear(in_features=400, out_features=120, bias=True)\n",
       "  (fc2): Linear(in_features=120, out_features=84, bias=True)\n",
       "  (fc3): Linear(in_features=84, out_features=10, bias=True)\n",
       ")"
      ]
     },
     "execution_count": 4,
     "metadata": {},
     "output_type": "execute_result"
    }
   ],
   "source": [
    "net"
   ]
  },
  {
   "cell_type": "code",
   "execution_count": 5,
   "metadata": {},
   "outputs": [
    {
     "name": "stdout",
     "output_type": "stream",
     "text": [
      "tensor([[[[0.6078, 0.6118, 0.5843,  ..., 0.7412, 0.7333, 0.7137],\n",
      "          [0.7569, 0.7333, 0.7216,  ..., 0.7294, 0.7569, 0.7333],\n",
      "          [0.7294, 0.7569, 0.7373,  ..., 0.7529, 0.7176, 0.6706],\n",
      "          ...,\n",
      "          [0.6392, 0.7137, 0.6118,  ..., 0.7137, 0.7216, 0.7176],\n",
      "          [0.6863, 0.6941, 0.7373,  ..., 0.7216, 0.6235, 0.6471],\n",
      "          [0.7137, 0.6039, 0.6235,  ..., 0.6588, 0.7137, 0.6588]],\n",
      "\n",
      "         [[0.6784, 0.7216, 0.6549,  ..., 0.7176, 0.7216, 0.7216],\n",
      "          [0.7098, 0.7176, 0.7490,  ..., 0.8431, 0.7059, 0.7569],\n",
      "          [0.8392, 0.7098, 0.7569,  ..., 0.7725, 0.8471, 0.7294],\n",
      "          ...,\n",
      "          [0.2353, 0.1451, 0.1294,  ..., 0.2196, 0.2235, 0.1804],\n",
      "          [0.1843, 0.1922, 0.2431,  ..., 0.7294, 0.7137, 0.7647],\n",
      "          [0.7294, 0.7216, 0.6902,  ..., 0.5451, 0.5922, 0.5608]],\n",
      "\n",
      "         [[0.5882, 0.3922, 0.3804,  ..., 0.3804, 0.3882, 0.4392],\n",
      "          [0.4392, 0.4471, 0.3490,  ..., 0.6980, 0.6902, 0.7451],\n",
      "          [0.7255, 0.7176, 0.6863,  ..., 0.8784, 0.8431, 0.8314],\n",
      "          ...,\n",
      "          [0.3608, 0.3059, 0.2510,  ..., 0.2000, 0.2549, 0.2275],\n",
      "          [0.1961, 0.2824, 0.2706,  ..., 0.2863, 0.2510, 0.2510],\n",
      "          [0.2471, 0.2078, 0.2510,  ..., 0.2863, 0.2667, 0.1961]]]])\n"
     ]
    },
    {
     "data": {
      "text/plain": [
       "(torch.Tensor, torch.Size([1, 3, 32, 32]))"
      ]
     },
     "execution_count": 5,
     "metadata": {},
     "output_type": "execute_result"
    }
   ],
   "source": [
    "import matplotlib.pyplot as plt\n",
    "import numpy as np\n",
    "\n",
    "IMAGE_PATH = './data/test/airplane/0001.png'\n",
    "\n",
    "input_image = plt.imread(IMAGE_PATH)\n",
    "\n",
    "input_image = torch.Tensor(np.reshape(\n",
    "    input_image,\n",
    "    newshape = (1, -1, input_image.shape[0], input_image.shape[1])\n",
    "))\n",
    "\n",
    "# input_image = np.concatenate([input_image]*4)\n",
    "\n",
    "print(input_image)\n",
    "\n",
    "type(input_image), input_image.shape"
   ]
  },
  {
   "cell_type": "code",
   "execution_count": 9,
   "metadata": {},
   "outputs": [
    {
     "name": "stdout",
     "output_type": "stream",
     "text": [
      "torch.Size([1, 10])\n"
     ]
    }
   ],
   "source": [
    "outputs = net(input_image) \n",
    "print(outputs.shape)\n"
   ]
  },
  {
   "cell_type": "code",
   "execution_count": 10,
   "metadata": {},
   "outputs": [
    {
     "name": "stdout",
     "output_type": "stream",
     "text": [
      "Predicted:  plane\n"
     ]
    }
   ],
   "source": [
    "values, indices = torch.max(outputs, dim=1)\n",
    "\n",
    "# Define list of classes\n",
    "classes = ('plane', 'car', 'bird', 'cat',\n",
    "           'deer', 'dog', 'frog', 'horse', 'ship', 'truck')\n",
    "\n",
    "print('Predicted: ', ' '.join(f'{classes[indices[j]]:5s}'\n",
    "                              for j in range(indices.shape[0])))"
   ]
  }
 ],
 "metadata": {
  "kernelspec": {
   "display_name": "Python 3",
   "language": "python",
   "name": "python3"
  },
  "language_info": {
   "codemirror_mode": {
    "name": "ipython",
    "version": 3
   },
   "file_extension": ".py",
   "mimetype": "text/x-python",
   "name": "python",
   "nbconvert_exporter": "python",
   "pygments_lexer": "ipython3",
   "version": "3.11.5"
  },
  "orig_nbformat": 4
 },
 "nbformat": 4,
 "nbformat_minor": 2
}
